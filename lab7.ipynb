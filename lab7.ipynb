{
  "nbformat": 4,
  "nbformat_minor": 0,
  "metadata": {
    "colab": {
      "provenance": [],
      "authorship_tag": "ABX9TyPARUe0SgtMeX7BlhGj8bMN",
      "include_colab_link": true
    },
    "kernelspec": {
      "name": "python3",
      "display_name": "Python 3"
    },
    "language_info": {
      "name": "python"
    }
  },
  "cells": [
    {
      "cell_type": "markdown",
      "metadata": {
        "id": "view-in-github",
        "colab_type": "text"
      },
      "source": [
        "<a href=\"https://colab.research.google.com/github/Mayanzev/Telecom/blob/main/lab7.ipynb\" target=\"_parent\"><img src=\"https://colab.research.google.com/assets/colab-badge.svg\" alt=\"Open In Colab\"/></a>"
      ]
    },
    {
      "cell_type": "code",
      "execution_count": 1,
      "metadata": {
        "id": "jYojWx2O-FTE"
      },
      "outputs": [],
      "source": [
        "import numpy as np\n",
        "PI2 = 2 * np.pi"
      ]
    },
    {
      "cell_type": "markdown",
      "source": [
        "# **Упражнение 7.1**\n",
        "В блокноте для этой главы, chap07.ipynb, представлены дополнительные примеры и пояснения. Прочитайте блокнот и запустите код."
      ],
      "metadata": {
        "id": "4x-XReOL_DDg"
      }
    },
    {
      "cell_type": "markdown",
      "source": [
        "# **Упражнение 7.2**\n",
        "Необходимо выполнить алгоритм быстрого преобразования Фурье (БПФ), ключом к БПФ является лемма Дэниелсона-Ланцоша, которая предлагает рекурсивный алгоритм для ДПФ. Полное описание представлено в методичке."
      ],
      "metadata": {
        "id": "h2DCuhvk_P6h"
      }
    },
    {
      "cell_type": "markdown",
      "source": [
        "Возьмем некоторый тестовый пример."
      ],
      "metadata": {
        "id": "mPK0SToOCu_V"
      }
    },
    {
      "cell_type": "code",
      "source": [
        "ys = [-0.2, 0.3, 0.7, -0.4]\n",
        "hs = np.fft.fft(ys)\n",
        "print(hs)"
      ],
      "metadata": {
        "colab": {
          "base_uri": "https://localhost:8080/"
        },
        "id": "tSeTZryg_KZa",
        "outputId": "ef08e3da-ee90-4ac3-9b60-c225a9792f88"
      },
      "execution_count": 3,
      "outputs": [
        {
          "output_type": "stream",
          "name": "stdout",
          "text": [
            "[ 0.4+0.j  -0.9-0.7j  0.6+0.j  -0.9+0.7j]\n"
          ]
        }
      ]
    },
    {
      "cell_type": "code",
      "source": [
        "def dft(ys):\n",
        "    N = len(ys)\n",
        "    ts = np.arange(N) / N\n",
        "    freqs = np.arange(N)\n",
        "    args = np.outer(ts, freqs)\n",
        "    M = np.exp(1j * PI2 * args)\n",
        "    amps = M.conj().transpose().dot(ys)\n",
        "    return amps"
      ],
      "metadata": {
        "id": "vewYSSsODZ6t"
      },
      "execution_count": 4,
      "outputs": []
    },
    {
      "cell_type": "code",
      "source": [
        "hs2 = dft(ys)\n",
        "hs2"
      ],
      "metadata": {
        "colab": {
          "base_uri": "https://localhost:8080/"
        },
        "id": "rOX3jqguDt9p",
        "outputId": "fa545aef-0ae2-40b5-e63b-f78b5603755e"
      },
      "execution_count": 6,
      "outputs": [
        {
          "output_type": "execute_result",
          "data": {
            "text/plain": [
              "array([ 0.4+0.00000000e+00j, -0.9-7.00000000e-01j,  0.6+2.81668764e-16j,\n",
              "       -0.9+7.00000000e-01j])"
            ]
          },
          "metadata": {},
          "execution_count": 6
        }
      ]
    },
    {
      "cell_type": "markdown",
      "source": [
        "Начнем с нерекурсивной версии, разделив элементы."
      ],
      "metadata": {
        "id": "OdNlYhbvEIxB"
      }
    },
    {
      "cell_type": "code",
      "source": [
        "def my_fft(ys):\n",
        "  N = len(ys)\n",
        "  He = dft(ys[::2])\n",
        "  Ho = dft(ys[1::2])\n",
        "\n",
        "  ns = np.arange(N)\n",
        "  W = np.exp(-1j * PI2 * ns / N)\n",
        "\n",
        "  return np.tile(He, 2) + W * np.tile(Ho, 2)\n",
        "\n",
        "ys[::2], ys[1::2], my_fft(ys)"
      ],
      "metadata": {
        "colab": {
          "base_uri": "https://localhost:8080/"
        },
        "id": "dq_0XK2wEP0s",
        "outputId": "382cbd54-088a-4d56-a7f8-543f3a0fbadf"
      },
      "execution_count": 11,
      "outputs": [
        {
          "output_type": "execute_result",
          "data": {
            "text/plain": [
              "([-0.2, 0.7],\n",
              " [0.3, -0.4],\n",
              " array([ 0.4+0.0000000e+00j, -0.9-7.0000000e-01j,  0.6+1.2246468e-17j,\n",
              "        -0.9+7.0000000e-01j]))"
            ]
          },
          "metadata": {},
          "execution_count": 11
        }
      ]
    },
    {
      "cell_type": "markdown",
      "source": [
        "Теперь сделаем рекурсивный метод."
      ],
      "metadata": {
        "id": "JYCuh60fFzR3"
      }
    },
    {
      "cell_type": "code",
      "source": [
        "def my_fft(ys):\n",
        "    N = len(ys)\n",
        "    if N == 1:\n",
        "        return ys\n",
        "\n",
        "    He = my_fft(ys[::2])\n",
        "    Ho = my_fft(ys[1::2])\n",
        "\n",
        "    ns = np.arange(N)\n",
        "    W = np.exp(-1j * PI2 * ns / N)\n",
        "\n",
        "    return np.tile(He, 2) + W * np.tile(Ho, 2)\n",
        "\n",
        "ys[::2], ys[1::2], my_fft(ys)"
      ],
      "metadata": {
        "colab": {
          "base_uri": "https://localhost:8080/"
        },
        "id": "5LyddJ5_F2Bs",
        "outputId": "866dd830-c244-4183-9439-762f36c29b70"
      },
      "execution_count": 12,
      "outputs": [
        {
          "output_type": "execute_result",
          "data": {
            "text/plain": [
              "([-0.2, 0.7],\n",
              " [0.3, -0.4],\n",
              " array([ 0.4+0.0000000e+00j, -0.9-7.0000000e-01j,  0.6+1.2246468e-17j,\n",
              "        -0.9+7.0000000e-01j]))"
            ]
          },
          "metadata": {},
          "execution_count": 12
        }
      ]
    }
  ]
}